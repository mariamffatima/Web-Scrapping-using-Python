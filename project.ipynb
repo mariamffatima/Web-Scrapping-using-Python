{
 "cells": [
  {
   "cell_type": "code",
   "execution_count": 18,
   "id": "fff7df39",
   "metadata": {},
   "outputs": [
    {
     "name": "stdout",
     "output_type": "stream",
     "text": [
      "<bound method PageElement.get_text of <!DOCTYPE html>\n",
      "<html lang=\"en\"><head><meta charset=\"utf-8\"/><meta content=\"width=device-width\" name=\"viewport\"/><meta content=\"2\" name=\"next-head-count\"/><meta charset=\"utf-8\"/><meta content=\"#000000\" name=\"theme-color\"/><link href=\"/manifest.json\" rel=\"manifest\"/><link href=\"/apple-touch-icon.png\" rel=\"apple-touch-icon\" sizes=\"180x180\"/><link href=\"/favicon-96x96.png\" rel=\"shortcut icon\"/><link href=\"https://messari.io/rss\" rel=\"alternate\" title=\"Messari Crypto News Feed\" type=\"application/rss+xml\"/><meta content=\"g9BAQ0QPz3z-nFOYtlwBMvlysVm5SPxCB6ghtHs0Wlw\" name=\"google-site-verification\"/><meta content=\"W2cUO8Zw2CD8KLXR-UP3NpJ3rE-vnUfHQkA5UQRxISE\" name=\"google-site-verification\"/><meta content=\"2099513470121159\" property=\"fb:app_id\"/><script data-react-helmet=\"true\" id=\"structured-data\" type=\"application/ld+json\">\n",
      "              {\n",
      "              '@context': 'http://schema.org',\n",
      "              '@type': 'Organization',\n",
      "              name: 'Messari',\n",
      "              logo: 'https://messari.github.io/images/logo_hor_small.png',\n",
      "              url: 'https://messari.io/',\n",
      "              sameAs: [\n",
      "                'https://twitter.com/messaricrypto',\n",
      "                'https://www.linkedin.com/company/messari',\n",
      "                'https://angel.co/messari',\n",
      "              ],\n",
      "            }\n",
      "            </script><link as=\"style\" crossorigin=\"\" href=\"/_next/static/css/1b7dbce9022dab79.css\" rel=\"preload\"/><link crossorigin=\"\" data-n-g=\"\" href=\"/_next/static/css/1b7dbce9022dab79.css\" rel=\"stylesheet\"/><noscript data-n-css=\"\"></noscript><script crossorigin=\"\" defer=\"\" nomodule=\"\" src=\"/_next/static/chunks/polyfills-c67a75d1b6f99dc8.js\"></script><script crossorigin=\"\" defer=\"\" src=\"/_next/static/chunks/webpack-6148a56fdaf65a6a.js\"></script><script crossorigin=\"\" defer=\"\" src=\"/_next/static/chunks/framework-ca706bf673a13738.js\"></script><script crossorigin=\"\" defer=\"\" src=\"/_next/static/chunks/main-0990c92a985bce40.js\"></script><script crossorigin=\"\" defer=\"\" src=\"/_next/static/chunks/pages/_app-bcaa99700b373c0e.js\"></script><script crossorigin=\"\" defer=\"\" src=\"/_next/static/chunks/1840-dbb7bcce2e4fd8ca.js\"></script><script crossorigin=\"\" defer=\"\" src=\"/_next/static/chunks/3300-583c1994a49e040a.js\"></script><script crossorigin=\"\" defer=\"\" src=\"/_next/static/chunks/8235-9c55e43f3a299f25.js\"></script><script crossorigin=\"\" defer=\"\" src=\"/_next/static/chunks/pages/api-landing-d3182f48ce78fa42.js\"></script><script crossorigin=\"\" defer=\"\" src=\"/_next/static/fRp0umRSJi9TOGFh1GqhN/_buildManifest.js\"></script><script crossorigin=\"\" defer=\"\" src=\"/_next/static/fRp0umRSJi9TOGFh1GqhN/_ssgManifest.js\"></script></head><body><div id=\"__next\"><style data-emotion=\"css 4b375e\">.css-4b375e{height:100%;}</style><div class=\"css-4b375e\"></div></div><script crossorigin=\"\" id=\"__NEXT_DATA__\" type=\"application/json\">{\"props\":{\"pageProps\":{}},\"page\":\"/api-landing\",\"query\":{},\"buildId\":\"fRp0umRSJi9TOGFh1GqhN\",\"nextExport\":true,\"autoExport\":true,\"isFallback\":false,\"scriptLoader\":[]}</script><noscript><iframe height=\"0\" src=\"https://www.googletagmanager.com/ns.html?id=GTM-TB54KGT\" style=\"display:none;visibility:hidden\" width=\"0\"></iframe></noscript></body></html>>\n"
     ]
    },
    {
     "data": {
      "text/plain": [
       "'<!DOCTYPE html>\\n<html lang=\"en\">\\n <head>\\n  <meta charset=\"utf-8\"/>\\n  <meta content=\"width=device-width\" name=\"viewport\"/>\\n  <meta content=\"2\" name=\"next-head-count\"/>\\n  <meta charset=\"utf-8\"/>\\n  <meta content=\"#000000\" name=\"theme-color\"/>\\n  <link href=\"/manifest.json\" rel=\"manifest\"/>\\n  <link href=\"/apple-touch-icon.png\" rel=\"apple-touch-icon\" sizes=\"180x180\"/>\\n  <link href=\"/favicon-96x96.png\" rel=\"shortcut icon\"/>\\n  <link href=\"https://messari.io/rss\" rel=\"alternate\" title=\"Messari Crypto News Feed\" type=\"application/rss+xml\"/>\\n  <meta content=\"g9BAQ0QPz3z-nFOYtlwBMvlysVm5SPxCB6ghtHs0Wlw\" name=\"google-site-verification\"/>\\n  <meta content=\"W2cUO8Zw2CD8KLXR-UP3NpJ3rE-vnUfHQkA5UQRxISE\" name=\"google-site-verification\"/>\\n  <meta content=\"2099513470121159\" property=\"fb:app_id\"/>\\n  <script data-react-helmet=\"true\" id=\"structured-data\" type=\"application/ld+json\">\\n   {\\n              \\'@context\\': \\'http://schema.org\\',\\n              \\'@type\\': \\'Organization\\',\\n              name: \\'Messari\\',\\n              logo: \\'https://messari.github.io/images/logo_hor_small.png\\',\\n              url: \\'https://messari.io/\\',\\n              sameAs: [\\n                \\'https://twitter.com/messaricrypto\\',\\n                \\'https://www.linkedin.com/company/messari\\',\\n                \\'https://angel.co/messari\\',\\n              ],\\n            }\\n  </script>\\n  <link as=\"style\" crossorigin=\"\" href=\"/_next/static/css/1b7dbce9022dab79.css\" rel=\"preload\"/>\\n  <link crossorigin=\"\" data-n-g=\"\" href=\"/_next/static/css/1b7dbce9022dab79.css\" rel=\"stylesheet\"/>\\n  <noscript data-n-css=\"\">\\n  </noscript>\\n  <script crossorigin=\"\" defer=\"\" nomodule=\"\" src=\"/_next/static/chunks/polyfills-c67a75d1b6f99dc8.js\">\\n  </script>\\n  <script crossorigin=\"\" defer=\"\" src=\"/_next/static/chunks/webpack-6148a56fdaf65a6a.js\">\\n  </script>\\n  <script crossorigin=\"\" defer=\"\" src=\"/_next/static/chunks/framework-ca706bf673a13738.js\">\\n  </script>\\n  <script crossorigin=\"\" defer=\"\" src=\"/_next/static/chunks/main-0990c92a985bce40.js\">\\n  </script>\\n  <script crossorigin=\"\" defer=\"\" src=\"/_next/static/chunks/pages/_app-bcaa99700b373c0e.js\">\\n  </script>\\n  <script crossorigin=\"\" defer=\"\" src=\"/_next/static/chunks/1840-dbb7bcce2e4fd8ca.js\">\\n  </script>\\n  <script crossorigin=\"\" defer=\"\" src=\"/_next/static/chunks/3300-583c1994a49e040a.js\">\\n  </script>\\n  <script crossorigin=\"\" defer=\"\" src=\"/_next/static/chunks/8235-9c55e43f3a299f25.js\">\\n  </script>\\n  <script crossorigin=\"\" defer=\"\" src=\"/_next/static/chunks/pages/api-landing-d3182f48ce78fa42.js\">\\n  </script>\\n  <script crossorigin=\"\" defer=\"\" src=\"/_next/static/fRp0umRSJi9TOGFh1GqhN/_buildManifest.js\">\\n  </script>\\n  <script crossorigin=\"\" defer=\"\" src=\"/_next/static/fRp0umRSJi9TOGFh1GqhN/_ssgManifest.js\">\\n  </script>\\n </head>\\n <body>\\n  <div id=\"__next\">\\n   <style data-emotion=\"css 4b375e\">\\n    .css-4b375e{height:100%;}\\n   </style>\\n   <div class=\"css-4b375e\">\\n   </div>\\n  </div>\\n  <script crossorigin=\"\" id=\"__NEXT_DATA__\" type=\"application/json\">\\n   {\"props\":{\"pageProps\":{}},\"page\":\"/api-landing\",\"query\":{},\"buildId\":\"fRp0umRSJi9TOGFh1GqhN\",\"nextExport\":true,\"autoExport\":true,\"isFallback\":false,\"scriptLoader\":[]}\\n  </script>\\n  <noscript>\\n   <iframe height=\"0\" src=\"https://www.googletagmanager.com/ns.html?id=GTM-TB54KGT\" style=\"display:none;visibility:hidden\" width=\"0\">\\n   </iframe>\\n  </noscript>\\n </body>\\n</html>\\n'"
      ]
     },
     "execution_count": 18,
     "metadata": {},
     "output_type": "execute_result"
    }
   ],
   "source": [
    "import requests\n",
    "from bs4 import BeautifulSoup\n",
    "req =requests.get(\"https://messari.io/api\")\n",
    "soup = BeautifulSoup(req.content,\"html.parser\")\n",
    "print(soup.get_text)"
   ]
  },
  {
   "cell_type": "code",
   "execution_count": 20,
   "id": "fce77242",
   "metadata": {},
   "outputs": [
    {
     "name": "stdout",
     "output_type": "stream",
     "text": [
      "<!DOCTYPE html>\n",
      "<html lang=\"en\">\n",
      " <head>\n",
      "  <meta charset=\"utf-8\"/>\n",
      "  <meta content=\"width=device-width\" name=\"viewport\"/>\n",
      "  <meta content=\"2\" name=\"next-head-count\"/>\n",
      "  <meta charset=\"utf-8\"/>\n",
      "  <meta content=\"#000000\" name=\"theme-color\"/>\n",
      "  <link href=\"/manifest.json\" rel=\"manifest\"/>\n",
      "  <link href=\"/apple-touch-icon.png\" rel=\"apple-touch-icon\" sizes=\"180x180\"/>\n",
      "  <link href=\"/favicon-96x96.png\" rel=\"shortcut icon\"/>\n",
      "  <link href=\"https://messari.io/rss\" rel=\"alternate\" title=\"Messari Crypto News Feed\" type=\"application/rss+xml\"/>\n",
      "  <meta content=\"g9BAQ0QPz3z-nFOYtlwBMvlysVm5SPxCB6ghtHs0Wlw\" name=\"google-site-verification\"/>\n",
      "  <meta content=\"W2cUO8Zw2CD8KLXR-UP3NpJ3rE-vnUfHQkA5UQRxISE\" name=\"google-site-verification\"/>\n",
      "  <meta content=\"2099513470121159\" property=\"fb:app_id\"/>\n",
      "  <script data-react-helmet=\"true\" id=\"structured-data\" type=\"application/ld+json\">\n",
      "   {\n",
      "              '@context': 'http://schema.org',\n",
      "              '@type': 'Organization',\n",
      "              name: 'Messari',\n",
      "              logo: 'https://messari.github.io/images/logo_hor_small.png',\n",
      "              url: 'https://messari.io/',\n",
      "              sameAs: [\n",
      "                'https://twitter.com/messaricrypto',\n",
      "                'https://www.linkedin.com/company/messari',\n",
      "                'https://angel.co/messari',\n",
      "              ],\n",
      "            }\n",
      "  </script>\n",
      "  <link as=\"style\" crossorigin=\"\" href=\"/_next/static/css/1b7dbce9022dab79.css\" rel=\"preload\"/>\n",
      "  <link crossorigin=\"\" data-n-g=\"\" href=\"/_next/static/css/1b7dbce9022dab79.css\" rel=\"stylesheet\"/>\n",
      "  <noscript data-n-css=\"\">\n",
      "  </noscript>\n",
      "  <script crossorigin=\"\" defer=\"\" nomodule=\"\" src=\"/_next/static/chunks/polyfills-c67a75d1b6f99dc8.js\">\n",
      "  </script>\n",
      "  <script crossorigin=\"\" defer=\"\" src=\"/_next/static/chunks/webpack-6148a56fdaf65a6a.js\">\n",
      "  </script>\n",
      "  <script crossorigin=\"\" defer=\"\" src=\"/_next/static/chunks/framework-ca706bf673a13738.js\">\n",
      "  </script>\n",
      "  <script crossorigin=\"\" defer=\"\" src=\"/_next/static/chunks/main-0990c92a985bce40.js\">\n",
      "  </script>\n",
      "  <script crossorigin=\"\" defer=\"\" src=\"/_next/static/chunks/pages/_app-bcaa99700b373c0e.js\">\n",
      "  </script>\n",
      "  <script crossorigin=\"\" defer=\"\" src=\"/_next/static/chunks/1840-dbb7bcce2e4fd8ca.js\">\n",
      "  </script>\n",
      "  <script crossorigin=\"\" defer=\"\" src=\"/_next/static/chunks/3300-583c1994a49e040a.js\">\n",
      "  </script>\n",
      "  <script crossorigin=\"\" defer=\"\" src=\"/_next/static/chunks/8235-9c55e43f3a299f25.js\">\n",
      "  </script>\n",
      "  <script crossorigin=\"\" defer=\"\" src=\"/_next/static/chunks/pages/api-landing-d3182f48ce78fa42.js\">\n",
      "  </script>\n",
      "  <script crossorigin=\"\" defer=\"\" src=\"/_next/static/fRp0umRSJi9TOGFh1GqhN/_buildManifest.js\">\n",
      "  </script>\n",
      "  <script crossorigin=\"\" defer=\"\" src=\"/_next/static/fRp0umRSJi9TOGFh1GqhN/_ssgManifest.js\">\n",
      "  </script>\n",
      " </head>\n",
      " <body>\n",
      "  <div id=\"__next\">\n",
      "   <style data-emotion=\"css 4b375e\">\n",
      "    .css-4b375e{height:100%;}\n",
      "   </style>\n",
      "   <div class=\"css-4b375e\">\n",
      "   </div>\n",
      "  </div>\n",
      "  <script crossorigin=\"\" id=\"__NEXT_DATA__\" type=\"application/json\">\n",
      "   {\"props\":{\"pageProps\":{}},\"page\":\"/api-landing\",\"query\":{},\"buildId\":\"fRp0umRSJi9TOGFh1GqhN\",\"nextExport\":true,\"autoExport\":true,\"isFallback\":false,\"scriptLoader\":[]}\n",
      "  </script>\n",
      "  <noscript>\n",
      "   <iframe height=\"0\" src=\"https://www.googletagmanager.com/ns.html?id=GTM-TB54KGT\" style=\"display:none;visibility:hidden\" width=\"0\">\n",
      "   </iframe>\n",
      "  </noscript>\n",
      " </body>\n",
      "</html>\n",
      "\n"
     ]
    }
   ],
   "source": [
    "print(soup.prettify())"
   ]
  },
  {
   "cell_type": "code",
   "execution_count": null,
   "id": "89117a81",
   "metadata": {},
   "outputs": [],
   "source": []
  }
 ],
 "metadata": {
  "kernelspec": {
   "display_name": "Python 3 (ipykernel)",
   "language": "python",
   "name": "python3"
  },
  "language_info": {
   "codemirror_mode": {
    "name": "ipython",
    "version": 3
   },
   "file_extension": ".py",
   "mimetype": "text/x-python",
   "name": "python",
   "nbconvert_exporter": "python",
   "pygments_lexer": "ipython3",
   "version": "3.11.4"
  }
 },
 "nbformat": 4,
 "nbformat_minor": 5
}
